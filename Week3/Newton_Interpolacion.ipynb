{
 "cells": [
  {
   "cell_type": "code",
   "execution_count": 28,
   "metadata": {},
   "outputs": [],
   "source": [
    "import numpy as np\n",
    "import matplotlib.pyplot as plt\n",
    "from matplotlib import rc"
   ]
  },
  {
   "cell_type": "code",
   "execution_count": 29,
   "metadata": {},
   "outputs": [],
   "source": [
    "def Function(x):\n",
    "    \n",
    "    #return (3*x**2-1)/2.\n",
    "    return (35.*x**4 - 30.*x**2 + 3.)/8. "
   ]
  },
  {
   "cell_type": "code",
   "execution_count": 30,
   "metadata": {},
   "outputs": [],
   "source": [
    "xi, xf, Npoints = -1.,1.,100\n",
    "h = (xf-xi)/float(Npoints)\n",
    "\n",
    "X = np.linspace(xi,xf,Npoints)\n",
    "Y = Function(X)"
   ]
  },
  {
   "cell_type": "code",
   "execution_count": 31,
   "metadata": {},
   "outputs": [
    {
     "data": {
      "text/plain": [
       "[<matplotlib.lines.Line2D at 0x7fa1d1d4fd10>]"
      ]
     },
     "execution_count": 31,
     "metadata": {},
     "output_type": "execute_result"
    },
    {
     "data": {
      "image/png": "[encoded data removed]",
      "text/plain": [
       "<Figure size 432x288 with 1 Axes>"
      ]
     },
     "metadata": {
      "needs_background": "light"
     },
     "output_type": "display_data"
    }
   ],
   "source": [
    "plt.plot(X,Y)\n",
    "Y1 = np.zeros(len(X))\n",
    "\n",
    "plt.plot(X,Y,'k')\n",
    "plt.plot(X,Y1,'r--')"
   ]
  },
  {
   "cell_type": "code",
   "execution_count": 32,
   "metadata": {},
   "outputs": [],
   "source": [
    "def Derivada(f,x,h):\n",
    "    \n",
    "    d = 0.\n",
    "    \n",
    "    if(h!=0):\n",
    "        \n",
    "        d = (f(x+h)-f(x-h))/(2*h)\n",
    "        \n",
    "    return d"
   ]
  },
  {
   "cell_type": "code",
   "execution_count": 34,
   "metadata": {},
   "outputs": [],
   "source": [
    "# Definamos el metodo\n",
    "\n",
    "def NewtonMethod(f,df,xn,error,it,precision=0.0001,iterations=1000):\n",
    "    \n",
    "    h_ = 1.0e-4\n",
    "    \n",
    "    while error > precision and it < iterations:\n",
    "        \n",
    "        try:\n",
    "            \n",
    "            xn1 = xn - f(xn)/df(f,xn,h_)\n",
    "            \n",
    "            error = np.abs((xn1-xn)/xn1)\n",
    "            \n",
    "            #print(xn1)\n",
    "            \n",
    "        except ZeroDivisionError:\n",
    "            print(\"Hay division por cero\")\n",
    "            \n",
    "        xn = xn1\n",
    "        \n",
    "        it += 1\n",
    "        \n",
    "       \n",
    "        \n",
    "    return xn1"
   ]
  },
  {
   "cell_type": "code",
   "execution_count": 35,
   "metadata": {},
   "outputs": [],
   "source": [
    "root = NewtonMethod(Function,Derivada,10,100,1)"
   ]
  },
  {
   "cell_type": "code",
   "execution_count": 36,
   "metadata": {},
   "outputs": [
    {
     "name": "stdout",
     "output_type": "stream",
     "text": [
      "0.861136324176\n"
     ]
    }
   ],
   "source": [
    "print(root)"
   ]
  },
  {
   "cell_type": "code",
   "execution_count": 37,
   "metadata": {},
   "outputs": [
    {
     "name": "stdout",
     "output_type": "stream",
     "text": [
      "-0.8611363231969492\n",
      "-0.8611363223909284\n",
      "-0.33998104358485626\n",
      "-0.3399810437223457\n",
      "-0.33998104358490683\n",
      "0.33998104358490683\n",
      "0.3399810437223457\n",
      "0.33998104358485626\n",
      "0.8611363223909285\n",
      "0.8611363231969492\n"
     ]
    }
   ],
   "source": [
    "Xtest = np.linspace(-1,1,10)\n",
    "\n",
    "for i in Xtest:\n",
    "    print(NewtonMethod(Function,Derivada,i,100,0))"
   ]
  },
  {
   "cell_type": "markdown",
   "metadata": {},
   "source": [
    "# Interpolación de Lagrange"
   ]
  },
  {
   "cell_type": "code",
   "execution_count": 40,
   "metadata": {},
   "outputs": [],
   "source": [
    "def Lagrange(x,xi,j,n):\n",
    "    \n",
    "    prod = 1.0\n",
    "    \n",
    "    for k in range(n+1):\n",
    "        if(k != j):\n",
    "            prod *= (x-xi[k])/(xi[j]-xi[k])\n",
    "            \n",
    "    return prod"
   ]
  },
  {
   "cell_type": "code",
   "execution_count": 42,
   "metadata": {},
   "outputs": [],
   "source": [
    "def Poly(x,xi,fxi,n):\n",
    "    \n",
    "    summ = 0.\n",
    "    \n",
    "    for j in range(n+1):\n",
    "        \n",
    "        summ += fxi[j]*Lagrange(x,xi,j,n)\n",
    "        \n",
    "    return summ"
   ]
  },
  {
   "cell_type": "code",
   "execution_count": 43,
   "metadata": {},
   "outputs": [
    {
     "name": "stdout",
     "output_type": "stream",
     "text": [
      "[ 2.   2.5  3.   3.5  4.   4.5  5.   5.5  6.   6.5  7.   7.5  8.   8.5\n",
      "  9.   9.5 10.  10.5 11.  11.5 12. ]\n"
     ]
    }
   ],
   "source": [
    "X1 = [5.,10.]\n",
    "Y1 = [10.,15.]\n",
    "\n",
    "Data_ = np.arange(2,12+0.5,0.5)\n",
    "print(Data_)"
   ]
  },
  {
   "cell_type": "code",
   "execution_count": 44,
   "metadata": {},
   "outputs": [],
   "source": [
    "px1 = Poly(Data_,X1,Y1,1)"
   ]
  },
  {
   "cell_type": "code",
   "execution_count": 51,
   "metadata": {},
   "outputs": [
    {
     "data": {
      "text/plain": [
       "<matplotlib.legend.Legend at 0x7fa1d1895a10>"
      ]
     },
     "execution_count": 51,
     "metadata": {},
     "output_type": "execute_result"
    },
    {
     "data": {
      "image/png": "[encoded data removed]",
      "text/plain": [
       "<Figure size 432x288 with 1 Axes>"
      ]
     },
     "metadata": {
      "needs_background": "light"
     },
     "output_type": "display_data"
    }
   ],
   "source": [
    "plt.scatter(X1,Y1,color='r',label='f(x)')\n",
    "plt.plot(Data_,px1,label='p1(x)')\n",
    "plt.legend()"
   ]
  },
  {
   "cell_type": "code",
   "execution_count": null,
   "metadata": {},
   "outputs": [],
   "source": []
  }
 ],
 "metadata": {
  "kernelspec": {
   "display_name": "Python 3",
   "language": "python",
   "name": "python3"
  },
  "language_info": {
   "codemirror_mode": {
    "name": "ipython",
    "version": 2
   },
   "file_extension": ".py",
   "mimetype": "text/x-python",
   "name": "python",
   "nbconvert_exporter": "python",
   "pygments_lexer": "ipython2",
   "version": "2.7.16"
  }
 },
 "nbformat": 4,
 "nbformat_minor": 2
}
