{
 "cells": [
  {
   "cell_type": "code",
   "execution_count": 1,
   "metadata": {},
   "outputs": [
    {
     "name": "stdout",
     "output_type": "stream",
     "text": [
      "Using matplotlib backend: Qt5Agg\n",
      "Populating the interactive namespace from numpy and matplotlib\n"
     ]
    }
   ],
   "source": [
    "%pylab \n",
    "\n",
    "import numpy as np\n",
    "import matplotlib.pyplot as plt\n",
    "import matplotlib.animation as anim"
   ]
  },
  {
   "cell_type": "code",
   "execution_count": 2,
   "metadata": {},
   "outputs": [],
   "source": [
    "fig = plt.figure(figsize=(5,5))\n",
    "ax = fig.add_subplot(2,2,1)\n",
    "ax1 = fig.add_subplot(2,2,2)\n",
    "ax2 = fig.add_subplot(2,2,3)"
   ]
  },
  {
   "cell_type": "code",
   "execution_count": 3,
   "metadata": {},
   "outputs": [],
   "source": [
    "# Discretizacion\n",
    "x = np.arange(0.,2.*np.pi, 0.01)\n",
    "#print(x)\n",
    "\n",
    "x1, y1 = [],[]"
   ]
  },
  {
   "cell_type": "code",
   "execution_count": 4,
   "metadata": {},
   "outputs": [],
   "source": [
    "# Random walk\n",
    "\n",
    "N = 2000\n",
    "\n",
    "x2 = np.zeros(N)\n",
    "y2 = np.zeros(N)\n",
    "\n",
    "for i in range(1,N):\n",
    "    theta = 2.*np.pi*np.random.rand()\n",
    "    x2[i] = x2[i-1] + np.cos(theta)\n",
    "    y2[i] = y2[i-1] + np.sin(theta)"
   ]
  },
  {
   "cell_type": "code",
   "execution_count": null,
   "metadata": {},
   "outputs": [],
   "source": []
  },
  {
   "cell_type": "code",
   "execution_count": 5,
   "metadata": {},
   "outputs": [],
   "source": [
    "# Definamos funcion de inicio\n",
    "\n",
    "def init():\n",
    "    ax.set_xlabel('x[m]')\n",
    "    ax.set_ylabel('u(x,t)')\n",
    "    ax.set_xlim(0,2*np.pi)\n",
    "    ax.set_ylim(-1,1)\n",
    "    \n",
    "    ax1.set_xlabel('x[m]')\n",
    "    ax1.set_ylabel('u(x,t)')\n",
    "    ax1.set_xlim(0,2*np.pi)\n",
    "    ax1.set_ylim(-1,1)\n",
    "    \n",
    "    ax2.set_xlabel('')\n",
    "    ax2.set_ylabel('')\n",
    "    ax2.set_xlim(-10,10)\n",
    "    ax2.set_ylim(-10,10)"
   ]
  },
  {
   "cell_type": "code",
   "execution_count": 6,
   "metadata": {},
   "outputs": [],
   "source": [
    "# Definamos funcion de actualizacion\n",
    "\n",
    "def Update(i):\n",
    "    plot = ax.clear()\n",
    "    plot = ax1.clear()\n",
    "    plot = ax2.clear()\n",
    "    \n",
    "    init()\n",
    "    \n",
    "    plot = ax.plot(x,np.sin(x-i/10.))\n",
    "    \n",
    "    x1 = []\n",
    "    y1 = []\n",
    "    \n",
    "    x1.append(i)\n",
    "    y1.append(np.sin(i))\n",
    "    \n",
    "    plot = ax1.plot(x1,y1,'ro')\n",
    "    \n",
    "    plot = ax2.plot(x2[i],y2[i],'b*')\n",
    "    \n",
    "    return plot"
   ]
  },
  {
   "cell_type": "code",
   "execution_count": 7,
   "metadata": {},
   "outputs": [],
   "source": [
    "# Encontrar el numero de frames\n",
    "\n",
    "TMax = 50.\n",
    "dt = 0.01\n",
    "NSteps = 100.\n",
    "frames_ = int( TMax / (NSteps*dt) )"
   ]
  },
  {
   "cell_type": "code",
   "execution_count": 8,
   "metadata": {},
   "outputs": [],
   "source": [
    "Animation = anim.FuncAnimation(fig, Update, frames=frames_, init_func=init) "
   ]
  },
  {
   "cell_type": "code",
   "execution_count": 9,
   "metadata": {},
   "outputs": [],
   "source": [
    "Writer = anim.writers['ffmpeg']\n",
    "writer_ = Writer(fps=50, metadata=dict(artist='Me'))\n",
    "#Animation.save('Onda.mp4', writer=writer_)"
   ]
  },
  {
   "cell_type": "code",
   "execution_count": 21,
   "metadata": {},
   "outputs": [],
   "source": [
    "# !sudo apt-get install ffmpeg"
   ]
  },
  {
   "cell_type": "code",
   "execution_count": 16,
   "metadata": {},
   "outputs": [],
   "source": [
    "!git add Animate.ipynb "
   ]
  },
  {
   "cell_type": "code",
   "execution_count": 17,
   "metadata": {},
   "outputs": [
    {
     "name": "stdout",
     "output_type": "stream",
     "text": [
      "En la rama main\r\n",
      "Tu rama está actualizada con 'origin/main'.\r\n",
      "\r\n",
      "Cambios a ser confirmados:\r\n",
      "  (usa \"git reset HEAD <archivo>...\" para sacar del área de stage)\r\n",
      "\r\n",
      "\t\u001b[32mnuevo archivo:  Animate.ipynb\u001b[m\r\n",
      "\r\n",
      "Archivos sin seguimiento:\r\n",
      "  (usa \"git add <archivo>...\" para incluirlo a lo que se será confirmado)\r\n",
      "\r\n",
      "\t\u001b[31m../Week1/.ipynb_checkpoints/\u001b[m\r\n",
      "\t\u001b[31m.ipynb_checkpoints/\u001b[m\r\n",
      "\t\u001b[31mOnda.mp4\u001b[m\r\n",
      "\r\n"
     ]
    }
   ],
   "source": [
    "!git status"
   ]
  },
  {
   "cell_type": "code",
   "execution_count": 18,
   "metadata": {},
   "outputs": [
    {
     "name": "stdout",
     "output_type": "stream",
     "text": [
      "[main a4a7131] Animacion Python\r\n",
      " 1 file changed, 234 insertions(+)\r\n",
      " create mode 100644 Week2/Animate.ipynb\r\n"
     ]
    }
   ],
   "source": [
    "!git commit -am \"Animacion Python\""
   ]
  },
  {
   "cell_type": "code",
   "execution_count": 19,
   "metadata": {},
   "outputs": [
    {
     "name": "stdout",
     "output_type": "stream",
     "text": [
      "Contando objetos: 4, listo.\n",
      "Delta compression using up to 4 threads.\n",
      "Comprimiendo objetos: 100% (3/3), listo.\n",
      "Escribiendo objetos: 100% (4/4), 1.72 KiB | 1.72 MiB/s, listo.\n",
      "Total 4 (delta 0), reused 0 (delta 0)\n",
      "To https://github.com/asegura4488/MetodosCompu2021.git\n",
      "   2bee36b..a4a7131  main -> main\n"
     ]
    }
   ],
   "source": [
    "!git push origin main"
   ]
  },
  {
   "cell_type": "code",
   "execution_count": 20,
   "metadata": {},
   "outputs": [
    {
     "name": "stdout",
     "output_type": "stream",
     "text": [
      "Desde https://github.com/asegura4488/MetodosCompu2021\r\n",
      " * branch            main       -> FETCH_HEAD\r\n",
      "Ya está actualizado.\r\n"
     ]
    }
   ],
   "source": [
    "!git pull origin main "
   ]
  },
  {
   "cell_type": "code",
   "execution_count": null,
   "metadata": {},
   "outputs": [],
   "source": []
  }
 ],
 "metadata": {
  "kernelspec": {
   "display_name": "Python 3",
   "language": "python",
   "name": "python3"
  },
  "language_info": {
   "codemirror_mode": {
    "name": "ipython",
    "version": 2
   },
   "file_extension": ".py",
   "mimetype": "text/x-python",
   "name": "python",
   "nbconvert_exporter": "python",
   "pygments_lexer": "ipython2",
   "version": "2.7.16"
  }
 },
 "nbformat": 4,
 "nbformat_minor": 2
}
